{
 "cells": [
  {
   "cell_type": "code",
   "execution_count": 1,
   "id": "258151a9",
   "metadata": {},
   "outputs": [
    {
     "ename": "ModuleNotFoundError",
     "evalue": "No module named 'robust_models'",
     "output_type": "error",
     "traceback": [
      "\u001b[1;31m---------------------------------------------------------------------------\u001b[0m",
      "\u001b[1;31mModuleNotFoundError\u001b[0m                       Traceback (most recent call last)",
      "Cell \u001b[1;32mIn[1], line 3\u001b[0m\n\u001b[0;32m      1\u001b[0m \u001b[38;5;28;01mimport\u001b[39;00m\u001b[38;5;250m \u001b[39m\u001b[38;5;21;01mnumpy\u001b[39;00m\u001b[38;5;250m \u001b[39m\u001b[38;5;28;01mas\u001b[39;00m\u001b[38;5;250m \u001b[39m\u001b[38;5;21;01mnp\u001b[39;00m\n\u001b[0;32m      2\u001b[0m \u001b[38;5;28;01mimport\u001b[39;00m\u001b[38;5;250m \u001b[39m\u001b[38;5;21;01mpandas\u001b[39;00m\u001b[38;5;250m \u001b[39m\u001b[38;5;28;01mas\u001b[39;00m\u001b[38;5;250m \u001b[39m\u001b[38;5;21;01mpd\u001b[39;00m\n\u001b[1;32m----> 3\u001b[0m \u001b[38;5;28;01mfrom\u001b[39;00m\u001b[38;5;250m \u001b[39m\u001b[38;5;21;01mrobust_models\u001b[39;00m\u001b[38;5;21;01m.\u001b[39;00m\u001b[38;5;21;01mIRM_model\u001b[39;00m\u001b[38;5;21;01m.\u001b[39;00m\u001b[38;5;21;01mIRMClassifier\u001b[39;00m\u001b[38;5;250m \u001b[39m\u001b[38;5;28;01mimport\u001b[39;00m UniversalIRM\n",
      "\u001b[1;31mModuleNotFoundError\u001b[0m: No module named 'robust_models'"
     ]
    }
   ],
   "source": [
    "import numpy as np\n",
    "import pandas as pd\n",
    "from robust_models.IRM_model.IRMClassifier import UniversalIRM"
   ]
  },
  {
   "cell_type": "code",
   "execution_count": null,
   "id": "8bff0c7c",
   "metadata": {},
   "outputs": [],
   "source": [
    "data = pd.read_csv('data/mv_x6_source.csv', index_col=[0])\n",
    "data[list(data.columns)[-1]] = data[list(data.columns)[-1]].astype(int)\n",
    "X, y = data[list(data.columns)[:-1]].values, data[list(data.columns)[-1]].values\n",
    "data_target = pd.read_csv('data/mv_x6_target.csv', index_col=[0])\n",
    "data_target[list(data_target.columns)[-1]] = data_target[list(data_target.columns)[-1]].astype(int)\n",
    "data_target.reset_index(inplace=True, drop=True)\n",
    "X_ood, y_ood = data_target[list(data_target.columns)[:-1]].values, data_target[list(data_target.columns)[-1]].values"
   ]
  },
  {
   "cell_type": "code",
   "execution_count": null,
   "id": "17304544",
   "metadata": {},
   "outputs": [],
   "source": []
  }
 ],
 "metadata": {
  "kernelspec": {
   "display_name": "synth_shift",
   "language": "python",
   "name": "python3"
  },
  "language_info": {
   "codemirror_mode": {
    "name": "ipython",
    "version": 3
   },
   "file_extension": ".py",
   "mimetype": "text/x-python",
   "name": "python",
   "nbconvert_exporter": "python",
   "pygments_lexer": "ipython3",
   "version": "3.11.11"
  }
 },
 "nbformat": 4,
 "nbformat_minor": 5
}

{
 "cells": [
  {
   "cell_type": "code",
   "execution_count": 1,
   "id": "258151a9",
   "metadata": {},
   "outputs": [],
   "source": [
    "import numpy as np\n",
    "import pandas as pd\n",
    "from robust_models.IRM_model.IRMClassifier import UniversalIRM\n",
    "from sklearn.model_selection import train_test_split\n",
    "from sklearn.model_selection import cross_val_score\n",
    "from sklearn.metrics import log_loss, f1_score"
   ]
  },
  {
   "cell_type": "code",
   "execution_count": 2,
   "id": "e94006bb",
   "metadata": {},
   "outputs": [],
   "source": [
    "def nll_loss(true_labels, predicted_probs):\n",
    "    total_nll = 0.0\n",
    "    for i in range(len(true_labels)):\n",
    "        true_class = true_labels[i]\n",
    "        # Get predicted probability for the true class\n",
    "        prob_true_class = predicted_probs[i, true_class]\n",
    "        \n",
    "        # Avoid log(0) which would be infinity\n",
    "        if prob_true_class < 1e-15:\n",
    "            prob_true_class = 1e-15\n",
    "            \n",
    "        # Calculate negative log of the probability\n",
    "        sample_nll = -np.log(prob_true_class)\n",
    "        total_nll += sample_nll\n",
    "\n",
    "    \n",
    "    # Return average NLL\n",
    "    return total_nll / len(true_labels)"
   ]
  },
  {
   "cell_type": "code",
   "execution_count": 3,
   "id": "8bff0c7c",
   "metadata": {},
   "outputs": [],
   "source": [
    "data = pd.read_csv('../data/electricity_source.csv', index_col=[0])\n",
    "data[list(data.columns)[-1]] = data[list(data.columns)[-1]].astype(int)\n",
    "X, y = data[list(data.columns)[:-1]].values, data[list(data.columns)[-1]].values\n",
    "data_target = pd.read_csv('../data/electricity_target.csv', index_col=[0])\n",
    "data_target[list(data_target.columns)[-1]] = data_target[list(data_target.columns)[-1]].astype(int)\n",
    "data_target.reset_index(inplace=True, drop=True)\n",
    "X_ood, y_ood = data_target[list(data_target.columns)[:-1]].values, data_target[list(data_target.columns)[-1]].values"
   ]
  },
  {
   "cell_type": "code",
   "execution_count": 4,
   "id": "17304544",
   "metadata": {},
   "outputs": [
    {
     "name": "stderr",
     "output_type": "stream",
     "text": [
      "c:\\Users\\Irina\\anaconda3\\envs\\synth_shift\\Lib\\site-packages\\joblib\\externals\\loky\\backend\\context.py:136: UserWarning: Could not find the number of physical cores for the following reason:\n",
      "[WinError 2] The system cannot find the file specified\n",
      "Returning the number of logical cores instead. You can silence this warning by setting LOKY_MAX_CPU_COUNT to the number of cores you want to use.\n",
      "  warnings.warn(\n",
      "  File \"c:\\Users\\Irina\\anaconda3\\envs\\synth_shift\\Lib\\site-packages\\joblib\\externals\\loky\\backend\\context.py\", line 257, in _count_physical_cores\n",
      "    cpu_info = subprocess.run(\n",
      "               ^^^^^^^^^^^^^^^\n",
      "  File \"c:\\Users\\Irina\\anaconda3\\envs\\synth_shift\\Lib\\subprocess.py\", line 548, in run\n",
      "    with Popen(*popenargs, **kwargs) as process:\n",
      "         ^^^^^^^^^^^^^^^^^^^^^^^^^^^\n",
      "  File \"c:\\Users\\Irina\\anaconda3\\envs\\synth_shift\\Lib\\subprocess.py\", line 1026, in __init__\n",
      "    self._execute_child(args, executable, preexec_fn, close_fds,\n",
      "  File \"c:\\Users\\Irina\\anaconda3\\envs\\synth_shift\\Lib\\subprocess.py\", line 1538, in _execute_child\n",
      "    hp, ht, pid, tid = _winapi.CreateProcess(executable, args,\n",
      "                       ^^^^^^^^^^^^^^^^^^^^^^^^^^^^^^^^^^^^^^^\n"
     ]
    },
    {
     "name": "stdout",
     "output_type": "stream",
     "text": [
      "Epoch 1/100: Loss = 0.6577\n",
      "Epoch 11/100: Loss = 0.4424\n",
      "Epoch 21/100: Loss = 0.4279\n",
      "Early stopping at epoch 26\n"
     ]
    },
    {
     "data": {
      "text/plain": [
       "<robust_models.IRM_model.IRMClassifier.UniversalIRM at 0x1a8fde1f790>"
      ]
     },
     "execution_count": 4,
     "metadata": {},
     "output_type": "execute_result"
    }
   ],
   "source": [
    "irm_clf = UniversalIRM(task='classification', n_environments=2, \n",
    "                          lambda_irm=0.9, epochs=100, verbose=True)\n",
    "irm_clf.fit(X, y)"
   ]
  },
  {
   "cell_type": "code",
   "execution_count": 5,
   "id": "50e9b146",
   "metadata": {},
   "outputs": [
    {
     "data": {
      "text/plain": [
       "0.6163787746986454"
      ]
     },
     "execution_count": 5,
     "metadata": {},
     "output_type": "execute_result"
    }
   ],
   "source": [
    "y_pred = irm_clf.predict(X_ood)\n",
    "f1_score(y_ood, y_pred)"
   ]
  }
 ],
 "metadata": {
  "kernelspec": {
   "display_name": "synth_shift",
   "language": "python",
   "name": "python3"
  },
  "language_info": {
   "codemirror_mode": {
    "name": "ipython",
    "version": 3
   },
   "file_extension": ".py",
   "mimetype": "text/x-python",
   "name": "python",
   "nbconvert_exporter": "python",
   "pygments_lexer": "ipython3",
   "version": "3.11.11"
  }
 },
 "nbformat": 4,
 "nbformat_minor": 5
}
